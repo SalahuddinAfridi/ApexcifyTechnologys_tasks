{
 "cells": [
  {
   "cell_type": "code",
   "execution_count": 1,
   "id": "df9ce446-fc8e-4ae0-9b2a-55e343815ef4",
   "metadata": {},
   "outputs": [],
   "source": [
    "import nltk\n",
    "import string\n",
    "import random\n",
    "import numpy as np\n",
    "from sklearn.feature_extraction.text import TfidfVectorizer\n",
    "from sklearn.metrics.pairwise import cosine_similarity"
   ]
  },
  {
   "cell_type": "code",
   "execution_count": 2,
   "id": "d4dd0e00-4767-4730-9382-5fe38389c1ee",
   "metadata": {},
   "outputs": [
    {
     "name": "stderr",
     "output_type": "stream",
     "text": [
      "[nltk_data] Downloading package punkt to\n",
      "[nltk_data]     C:\\Users\\salau\\AppData\\Roaming\\nltk_data...\n",
      "[nltk_data]   Package punkt is already up-to-date!\n",
      "[nltk_data] Downloading package punkt_tab to\n",
      "[nltk_data]     C:\\Users\\salau\\AppData\\Roaming\\nltk_data...\n",
      "[nltk_data]   Package punkt_tab is already up-to-date!\n",
      "[nltk_data] Downloading package stopwords to\n",
      "[nltk_data]     C:\\Users\\salau\\AppData\\Roaming\\nltk_data...\n",
      "[nltk_data]   Package stopwords is already up-to-date!\n"
     ]
    },
    {
     "data": {
      "text/plain": [
       "True"
      ]
     },
     "execution_count": 2,
     "metadata": {},
     "output_type": "execute_result"
    }
   ],
   "source": [
    "# Download NLTK resources (only first run)\n",
    "# nltk.download('punkt')\n",
    "# nltk.download('punkt_tab')\n",
    "# nltk.download('stopwords')"
   ]
  },
  {
   "cell_type": "code",
   "execution_count": 3,
   "id": "4541d266-fe76-4010-bd72-5105c5a52d2f",
   "metadata": {},
   "outputs": [],
   "source": [
    "from nltk.corpus import stopwords"
   ]
  },
  {
   "cell_type": "code",
   "execution_count": 4,
   "id": "4d915d90-4236-4430-ae0b-0c0b947be06d",
   "metadata": {},
   "outputs": [],
   "source": [
    "#  FAQ Dataset\n",
    "faqs = {\n",
    "    \"What is your name?\": \"I am your friendly FAQ chatbot!\",\n",
    "    \"How are you?\": \"I’m doing great, thanks for asking! How about you?\",\n",
    "    \"Hello\": \"Hi there! How can I help you today?\",\n",
    "    \"Hi\": \"Hello! How are you doing?\",\n",
    "    \"Can we talk?\": \"Of course! I’m here to chat with you.\",\n",
    "    \"I'm bored\": \"Let’s chat! Tell me what’s on your mind.\",\n",
    "    \"How can I reset my password?\": \"Click on 'Forgot Password' at the login page to reset your password.\",\n",
    "    \"What payment methods do you accept?\": \"We accept credit cards, debit cards, PayPal, and bank transfers.\",\n",
    "    \"How do I contact customer support?\": \"You can contact support via the Contact Us page or call our helpline.\",\n",
    "    \"What is your refund policy?\": \"Full refunds are available within 30 days of purchase if the product is unused.\"\n",
    "}\n",
    "\n",
    "questions = list(faqs.keys())\n",
    "answers = list(faqs.values())"
   ]
  },
  {
   "cell_type": "code",
   "execution_count": 5,
   "id": "3be98268-1c64-4bb2-8acc-9ba011dec380",
   "metadata": {},
   "outputs": [],
   "source": [
    "#  Preprocessing Function\n",
    "stop_words = set(stopwords.words('english'))\n",
    "\n",
    "def preprocess(text):\n",
    "    text = text.lower()  # lowercase\n",
    "    text = \"\".join([c for c in text if c not in string.punctuation])  # remove punctuation\n",
    "    tokens = nltk.word_tokenize(text)  # tokenize\n",
    "    tokens = [w for w in tokens if w not in stop_words]  # remove stopwords\n",
    "    return \" \".join(tokens)\n",
    "# Preprocess all FAQ questions\n",
    "processed_questions = [preprocess(q) for q in questions]   "
   ]
  },
  {
   "cell_type": "code",
   "execution_count": 6,
   "id": "f4932344-4239-43c2-a61a-62d2a0c91c88",
   "metadata": {},
   "outputs": [],
   "source": [
    "#  Vectorize (TF-IDF)\n",
    "vectorizer = TfidfVectorizer()\n",
    "faq_vectors = vectorizer.fit_transform(processed_questions)"
   ]
  },
  {
   "cell_type": "code",
   "execution_count": 7,
   "id": "5b646c92-d232-4538-a634-1fe62cabad97",
   "metadata": {},
   "outputs": [],
   "source": [
    "#  Fallback Responses\n",
    "fallback_replies = [\n",
    "    \"That’s interesting! Tell me more.\",\n",
    "    \"Hmm, I don’t know the exact answer but I’d love to chat 😊\",\n",
    "    \"I see! Can you explain more?\",\n",
    "    \"Good question! I may not know, but I’m here to talk.\",\n",
    "    \"Haha, that’s funny 😅 What else is on your mind?\",\n",
    "    \"I’m always here to chat, ask me anything!\"\n",
    "]"
   ]
  },
  {
   "cell_type": "code",
   "execution_count": 10,
   "id": "f6a2e3bc-664f-4fa0-96b3-cbf8f8f048ef",
   "metadata": {},
   "outputs": [
    {
     "name": "stdout",
     "output_type": "stream",
     "text": [
      "🤖 FAQ Chatbot: Hello! Ask me anything. Type 'quit' to exit.\n",
      "\n"
     ]
    },
    {
     "name": "stdin",
     "output_type": "stream",
     "text": [
      "You:  Hi\n"
     ]
    },
    {
     "name": "stdout",
     "output_type": "stream",
     "text": [
      "🤖 Chatbot: Hello! How are you doing?\n"
     ]
    },
    {
     "name": "stdin",
     "output_type": "stream",
     "text": [
      "You:  How can I reset my password?\n"
     ]
    },
    {
     "name": "stdout",
     "output_type": "stream",
     "text": [
      "🤖 Chatbot: Click on 'Forgot Password' at the login page to reset your password.\n"
     ]
    },
    {
     "name": "stdin",
     "output_type": "stream",
     "text": [
      "You:  What payment methods do you accept?\n"
     ]
    },
    {
     "name": "stdout",
     "output_type": "stream",
     "text": [
      "🤖 Chatbot: We accept credit cards, debit cards, PayPal, and bank transfers.\n"
     ]
    },
    {
     "name": "stdin",
     "output_type": "stream",
     "text": [
      "You:  What is your refund policy?\n"
     ]
    },
    {
     "name": "stdout",
     "output_type": "stream",
     "text": [
      "🤖 Chatbot: Full refunds are available within 30 days of purchase if the product is unused.\n"
     ]
    },
    {
     "name": "stdin",
     "output_type": "stream",
     "text": [
      "You:  exit\n"
     ]
    },
    {
     "name": "stdout",
     "output_type": "stream",
     "text": [
      "🤖 Chatbot: Goodbye!\n"
     ]
    }
   ],
   "source": [
    "#  Function to Get Best Answer\n",
    "def chatbot_response(user_input):\n",
    "    user_processed = preprocess(user_input)\n",
    "    user_vector = vectorizer.transform([user_processed])\n",
    "\n",
    "    # Compute cosine similarity\n",
    "    similarity_scores = cosine_similarity(user_vector, faq_vectors)\n",
    "    best_match_index = np.argmax(similarity_scores)\n",
    "\n",
    "    # If similarity too low → fallback (unlimited answers)\n",
    "    if similarity_scores[0][best_match_index] < 0.3:\n",
    "        return random.choice(fallback_replies)\n",
    "    return answers[best_match_index]\n",
    "\n",
    "# -----------------------------\n",
    "# Real-Time Chat\n",
    "# -----------------------------\n",
    "print(\"🤖 FAQ Chatbot: Hello! Ask me anything. Type 'quit' to exit.\\n\")\n",
    "\n",
    "while True:\n",
    "    user_input = input(\"You: \")\n",
    "    if user_input.lower() in ['quit', 'exit']:\n",
    "        print(\"🤖 Chatbot: Goodbye!\")\n",
    "        break\n",
    "    response = chatbot_response(user_input)\n",
    "    print(\"🤖 Chatbot:\", response)"
   ]
  },
  {
   "cell_type": "code",
   "execution_count": null,
   "id": "8559b322-1dfc-437a-9e40-a36016c152a0",
   "metadata": {},
   "outputs": [],
   "source": []
  }
 ],
 "metadata": {
  "kernelspec": {
   "display_name": "Python 3 (ipykernel)",
   "language": "python",
   "name": "python3"
  },
  "language_info": {
   "codemirror_mode": {
    "name": "ipython",
    "version": 3
   },
   "file_extension": ".py",
   "mimetype": "text/x-python",
   "name": "python",
   "nbconvert_exporter": "python",
   "pygments_lexer": "ipython3",
   "version": "3.12.7"
  }
 },
 "nbformat": 4,
 "nbformat_minor": 5
}
