{
 "cells": [
  {
   "cell_type": "code",
   "execution_count": null,
   "id": "3b5d7161-6de3-4335-b8d3-5135461cb6f9",
   "metadata": {},
   "outputs": [],
   "source": [
    "from tensorflow.keras.models import load_model\n",
    "\n",
    "# Load model\n",
    "model = load_model(\"D:/Apexcify_Technology_internship/keras_model.h5\", compile=False)\n",
    "\n",
    "print(\"✅ Model loaded successfully!\")\n",
    "print(\"Input shape:\", model.input_shape)\n",
    "print(\"Output shape:\", model.output_shape)\n",
    "\n",
    "# Load labels\n",
    "with open(\"D:/Apexcify_Technology_internship/labels.txt\", \"r\") as f:\n",
    "    labels = [line.strip() for line in f.readlines()]\n",
    "\n",
    "print(\"Class labels:\", labels)\n"
   ]
  }
 ],
 "metadata": {
  "kernelspec": {
   "display_name": "Python 3 (ipykernel)",
   "language": "python",
   "name": "python3"
  },
  "language_info": {
   "codemirror_mode": {
    "name": "ipython",
    "version": 3
   },
   "file_extension": ".py",
   "mimetype": "text/x-python",
   "name": "python",
   "nbconvert_exporter": "python",
   "pygments_lexer": "ipython3",
   "version": "3.12.7"
  }
 },
 "nbformat": 4,
 "nbformat_minor": 5
}
